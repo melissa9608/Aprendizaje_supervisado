{
 "cells": [
  {
   "cell_type": "markdown",
   "metadata": {},
   "source": [
    "# Sprint 9"
   ]
  },
  {
   "cell_type": "markdown",
   "metadata": {},
   "source": [
    "Los clientes de Beta Bank se están yendo, cada mes, poco a poco. Los banqueros descubrieron que es más barato salvar a los clientes existentes que atraer nuevos.\n",
    "\n",
    "Necesitamos predecir si un cliente dejará el banco pronto. Tú tienes los datos sobre el comportamiento pasado de los clientes y la terminación de contratos con el banco.\n",
    "\n",
    "Crea un modelo con el máximo valor F1 posible. Para aprobar la revisión, necesitas un valor F1 de al menos 0.59. Verifica F1 para el conjunto de prueba. \n",
    "\n",
    "Además, debes medir la métrica AUC-ROC y compararla con el valor F1."
   ]
  },
  {
   "cell_type": "markdown",
   "metadata": {},
   "source": [
    "## Descarga y prepara los datos."
   ]
  },
  {
   "cell_type": "code",
   "execution_count": 1,
   "metadata": {},
   "outputs": [],
   "source": [
    "import pandas as pd\n",
    "from sklearn.model_selection import train_test_split\n",
    "from sklearn.ensemble import RandomForestClassifier\n",
    "from sklearn.metrics import accuracy_score \n",
    "from sklearn.utils import shuffle\n",
    "from sklearn.metrics import f1_score, roc_auc_score"
   ]
  },
  {
   "cell_type": "code",
   "execution_count": 2,
   "metadata": {},
   "outputs": [
    {
     "data": {
      "text/html": [
       "<div>\n",
       "<style scoped>\n",
       "    .dataframe tbody tr th:only-of-type {\n",
       "        vertical-align: middle;\n",
       "    }\n",
       "\n",
       "    .dataframe tbody tr th {\n",
       "        vertical-align: top;\n",
       "    }\n",
       "\n",
       "    .dataframe thead th {\n",
       "        text-align: right;\n",
       "    }\n",
       "</style>\n",
       "<table border=\"1\" class=\"dataframe\">\n",
       "  <thead>\n",
       "    <tr style=\"text-align: right;\">\n",
       "      <th></th>\n",
       "      <th>RowNumber</th>\n",
       "      <th>CustomerId</th>\n",
       "      <th>Surname</th>\n",
       "      <th>CreditScore</th>\n",
       "      <th>Geography</th>\n",
       "      <th>Gender</th>\n",
       "      <th>Age</th>\n",
       "      <th>Tenure</th>\n",
       "      <th>Balance</th>\n",
       "      <th>NumOfProducts</th>\n",
       "      <th>HasCrCard</th>\n",
       "      <th>IsActiveMember</th>\n",
       "      <th>EstimatedSalary</th>\n",
       "      <th>Exited</th>\n",
       "    </tr>\n",
       "  </thead>\n",
       "  <tbody>\n",
       "    <tr>\n",
       "      <th>0</th>\n",
       "      <td>1</td>\n",
       "      <td>15634602</td>\n",
       "      <td>Hargrave</td>\n",
       "      <td>619</td>\n",
       "      <td>France</td>\n",
       "      <td>Female</td>\n",
       "      <td>42</td>\n",
       "      <td>2.0</td>\n",
       "      <td>0.00</td>\n",
       "      <td>1</td>\n",
       "      <td>1</td>\n",
       "      <td>1</td>\n",
       "      <td>101348.88</td>\n",
       "      <td>1</td>\n",
       "    </tr>\n",
       "    <tr>\n",
       "      <th>1</th>\n",
       "      <td>2</td>\n",
       "      <td>15647311</td>\n",
       "      <td>Hill</td>\n",
       "      <td>608</td>\n",
       "      <td>Spain</td>\n",
       "      <td>Female</td>\n",
       "      <td>41</td>\n",
       "      <td>1.0</td>\n",
       "      <td>83807.86</td>\n",
       "      <td>1</td>\n",
       "      <td>0</td>\n",
       "      <td>1</td>\n",
       "      <td>112542.58</td>\n",
       "      <td>0</td>\n",
       "    </tr>\n",
       "    <tr>\n",
       "      <th>2</th>\n",
       "      <td>3</td>\n",
       "      <td>15619304</td>\n",
       "      <td>Onio</td>\n",
       "      <td>502</td>\n",
       "      <td>France</td>\n",
       "      <td>Female</td>\n",
       "      <td>42</td>\n",
       "      <td>8.0</td>\n",
       "      <td>159660.80</td>\n",
       "      <td>3</td>\n",
       "      <td>1</td>\n",
       "      <td>0</td>\n",
       "      <td>113931.57</td>\n",
       "      <td>1</td>\n",
       "    </tr>\n",
       "    <tr>\n",
       "      <th>3</th>\n",
       "      <td>4</td>\n",
       "      <td>15701354</td>\n",
       "      <td>Boni</td>\n",
       "      <td>699</td>\n",
       "      <td>France</td>\n",
       "      <td>Female</td>\n",
       "      <td>39</td>\n",
       "      <td>1.0</td>\n",
       "      <td>0.00</td>\n",
       "      <td>2</td>\n",
       "      <td>0</td>\n",
       "      <td>0</td>\n",
       "      <td>93826.63</td>\n",
       "      <td>0</td>\n",
       "    </tr>\n",
       "    <tr>\n",
       "      <th>4</th>\n",
       "      <td>5</td>\n",
       "      <td>15737888</td>\n",
       "      <td>Mitchell</td>\n",
       "      <td>850</td>\n",
       "      <td>Spain</td>\n",
       "      <td>Female</td>\n",
       "      <td>43</td>\n",
       "      <td>2.0</td>\n",
       "      <td>125510.82</td>\n",
       "      <td>1</td>\n",
       "      <td>1</td>\n",
       "      <td>1</td>\n",
       "      <td>79084.10</td>\n",
       "      <td>0</td>\n",
       "    </tr>\n",
       "    <tr>\n",
       "      <th>...</th>\n",
       "      <td>...</td>\n",
       "      <td>...</td>\n",
       "      <td>...</td>\n",
       "      <td>...</td>\n",
       "      <td>...</td>\n",
       "      <td>...</td>\n",
       "      <td>...</td>\n",
       "      <td>...</td>\n",
       "      <td>...</td>\n",
       "      <td>...</td>\n",
       "      <td>...</td>\n",
       "      <td>...</td>\n",
       "      <td>...</td>\n",
       "      <td>...</td>\n",
       "    </tr>\n",
       "    <tr>\n",
       "      <th>9995</th>\n",
       "      <td>9996</td>\n",
       "      <td>15606229</td>\n",
       "      <td>Obijiaku</td>\n",
       "      <td>771</td>\n",
       "      <td>France</td>\n",
       "      <td>Male</td>\n",
       "      <td>39</td>\n",
       "      <td>5.0</td>\n",
       "      <td>0.00</td>\n",
       "      <td>2</td>\n",
       "      <td>1</td>\n",
       "      <td>0</td>\n",
       "      <td>96270.64</td>\n",
       "      <td>0</td>\n",
       "    </tr>\n",
       "    <tr>\n",
       "      <th>9996</th>\n",
       "      <td>9997</td>\n",
       "      <td>15569892</td>\n",
       "      <td>Johnstone</td>\n",
       "      <td>516</td>\n",
       "      <td>France</td>\n",
       "      <td>Male</td>\n",
       "      <td>35</td>\n",
       "      <td>10.0</td>\n",
       "      <td>57369.61</td>\n",
       "      <td>1</td>\n",
       "      <td>1</td>\n",
       "      <td>1</td>\n",
       "      <td>101699.77</td>\n",
       "      <td>0</td>\n",
       "    </tr>\n",
       "    <tr>\n",
       "      <th>9997</th>\n",
       "      <td>9998</td>\n",
       "      <td>15584532</td>\n",
       "      <td>Liu</td>\n",
       "      <td>709</td>\n",
       "      <td>France</td>\n",
       "      <td>Female</td>\n",
       "      <td>36</td>\n",
       "      <td>7.0</td>\n",
       "      <td>0.00</td>\n",
       "      <td>1</td>\n",
       "      <td>0</td>\n",
       "      <td>1</td>\n",
       "      <td>42085.58</td>\n",
       "      <td>1</td>\n",
       "    </tr>\n",
       "    <tr>\n",
       "      <th>9998</th>\n",
       "      <td>9999</td>\n",
       "      <td>15682355</td>\n",
       "      <td>Sabbatini</td>\n",
       "      <td>772</td>\n",
       "      <td>Germany</td>\n",
       "      <td>Male</td>\n",
       "      <td>42</td>\n",
       "      <td>3.0</td>\n",
       "      <td>75075.31</td>\n",
       "      <td>2</td>\n",
       "      <td>1</td>\n",
       "      <td>0</td>\n",
       "      <td>92888.52</td>\n",
       "      <td>1</td>\n",
       "    </tr>\n",
       "    <tr>\n",
       "      <th>9999</th>\n",
       "      <td>10000</td>\n",
       "      <td>15628319</td>\n",
       "      <td>Walker</td>\n",
       "      <td>792</td>\n",
       "      <td>France</td>\n",
       "      <td>Female</td>\n",
       "      <td>28</td>\n",
       "      <td>NaN</td>\n",
       "      <td>130142.79</td>\n",
       "      <td>1</td>\n",
       "      <td>1</td>\n",
       "      <td>0</td>\n",
       "      <td>38190.78</td>\n",
       "      <td>0</td>\n",
       "    </tr>\n",
       "  </tbody>\n",
       "</table>\n",
       "<p>10000 rows × 14 columns</p>\n",
       "</div>"
      ],
      "text/plain": [
       "      RowNumber  CustomerId    Surname  CreditScore Geography  Gender  Age  \\\n",
       "0             1    15634602   Hargrave          619    France  Female   42   \n",
       "1             2    15647311       Hill          608     Spain  Female   41   \n",
       "2             3    15619304       Onio          502    France  Female   42   \n",
       "3             4    15701354       Boni          699    France  Female   39   \n",
       "4             5    15737888   Mitchell          850     Spain  Female   43   \n",
       "...         ...         ...        ...          ...       ...     ...  ...   \n",
       "9995       9996    15606229   Obijiaku          771    France    Male   39   \n",
       "9996       9997    15569892  Johnstone          516    France    Male   35   \n",
       "9997       9998    15584532        Liu          709    France  Female   36   \n",
       "9998       9999    15682355  Sabbatini          772   Germany    Male   42   \n",
       "9999      10000    15628319     Walker          792    France  Female   28   \n",
       "\n",
       "      Tenure    Balance  NumOfProducts  HasCrCard  IsActiveMember  \\\n",
       "0        2.0       0.00              1          1               1   \n",
       "1        1.0   83807.86              1          0               1   \n",
       "2        8.0  159660.80              3          1               0   \n",
       "3        1.0       0.00              2          0               0   \n",
       "4        2.0  125510.82              1          1               1   \n",
       "...      ...        ...            ...        ...             ...   \n",
       "9995     5.0       0.00              2          1               0   \n",
       "9996    10.0   57369.61              1          1               1   \n",
       "9997     7.0       0.00              1          0               1   \n",
       "9998     3.0   75075.31              2          1               0   \n",
       "9999     NaN  130142.79              1          1               0   \n",
       "\n",
       "      EstimatedSalary  Exited  \n",
       "0           101348.88       1  \n",
       "1           112542.58       0  \n",
       "2           113931.57       1  \n",
       "3            93826.63       0  \n",
       "4            79084.10       0  \n",
       "...               ...     ...  \n",
       "9995         96270.64       0  \n",
       "9996        101699.77       0  \n",
       "9997         42085.58       1  \n",
       "9998         92888.52       1  \n",
       "9999         38190.78       0  \n",
       "\n",
       "[10000 rows x 14 columns]"
      ]
     },
     "metadata": {},
     "output_type": "display_data"
    },
    {
     "name": "stdout",
     "output_type": "stream",
     "text": [
      "<class 'pandas.core.frame.DataFrame'>\n",
      "RangeIndex: 10000 entries, 0 to 9999\n",
      "Data columns (total 14 columns):\n",
      " #   Column           Non-Null Count  Dtype  \n",
      "---  ------           --------------  -----  \n",
      " 0   RowNumber        10000 non-null  int64  \n",
      " 1   CustomerId       10000 non-null  int64  \n",
      " 2   Surname          10000 non-null  object \n",
      " 3   CreditScore      10000 non-null  int64  \n",
      " 4   Geography        10000 non-null  object \n",
      " 5   Gender           10000 non-null  object \n",
      " 6   Age              10000 non-null  int64  \n",
      " 7   Tenure           9091 non-null   float64\n",
      " 8   Balance          10000 non-null  float64\n",
      " 9   NumOfProducts    10000 non-null  int64  \n",
      " 10  HasCrCard        10000 non-null  int64  \n",
      " 11  IsActiveMember   10000 non-null  int64  \n",
      " 12  EstimatedSalary  10000 non-null  float64\n",
      " 13  Exited           10000 non-null  int64  \n",
      "dtypes: float64(3), int64(8), object(3)\n",
      "memory usage: 1.1+ MB\n",
      "None\n"
     ]
    }
   ],
   "source": [
    "data = pd.read_csv('/datasets/Churn.csv')\n",
    "\n",
    "display(data)\n",
    "print(data.info())"
   ]
  },
  {
   "cell_type": "code",
   "execution_count": 3,
   "metadata": {},
   "outputs": [
    {
     "name": "stdout",
     "output_type": "stream",
     "text": [
      "909\n"
     ]
    }
   ],
   "source": [
    "print(data['Tenure'].isnull().sum())"
   ]
  },
  {
   "cell_type": "code",
   "execution_count": 4,
   "metadata": {},
   "outputs": [
    {
     "name": "stdout",
     "output_type": "stream",
     "text": [
      "0\n"
     ]
    }
   ],
   "source": [
    "data['Tenure'] = data['Tenure'].fillna(0)\n",
    "print(data['Tenure'].isnull().sum())"
   ]
  },
  {
   "cell_type": "markdown",
   "metadata": {},
   "source": [
    "Se importaron las librerías necesarias y se analizaron los datos entregados\n",
    "Solo una de las columnas tenía valores ausentes, la columna Tenure con 909 valores NaN, los cuales se reemplazaron por ceros.\n",
    "El resto de los datos no tenían valores ausentes y su tipo de datos correspondía con los valores de cada columna."
   ]
  },
  {
   "cell_type": "markdown",
   "metadata": {},
   "source": [
    "## Examina el equilibrio de clases. Entrena el modelo sin tener en cuenta el desequilibrio. Describe brevemente tus hallazgos."
   ]
  },
  {
   "cell_type": "code",
   "execution_count": 5,
   "metadata": {},
   "outputs": [
    {
     "name": "stdout",
     "output_type": "stream",
     "text": [
      "Distribución de clases:\n",
      "0    7963\n",
      "1    2037\n",
      "Name: Exited, dtype: int64\n"
     ]
    }
   ],
   "source": [
    "# Examinar las clases\n",
    "\n",
    "class_distribution = data['Exited'].value_counts()\n",
    "print(\"Distribución de clases:\")\n",
    "print(class_distribution)"
   ]
  },
  {
   "cell_type": "code",
   "execution_count": 6,
   "metadata": {},
   "outputs": [],
   "source": [
    "# Entrenar el modelo\n",
    "\n",
    "data = pd.get_dummies(data, columns=['Geography', 'Gender'], drop_first=True)\n",
    "\n",
    "features = data.drop(columns=['RowNumber', 'CustomerId', 'Surname', 'Exited'], axis = 1)\n",
    "target = data['Exited']\n",
    "\n",
    "\n",
    "# División del conjunto de datos en dos: conjunto de prueba (20%) y el resto (conjunto de validación + conjuntos de entrenamiento) (80%)\n",
    "\n",
    "features_80, features_test, target_80, target_test = train_test_split(features, target, test_size=0.20, random_state=12345)\n",
    "\n",
    "# División del conjunto de datos restante en conjunto de entrenamiento (60%) y conjunto de validación (20%)\n",
    "\n",
    "features_train, features_valid, target_train, target_valid = train_test_split(features_80, target_80, test_size=0.25, random_state=12345)\n"
   ]
  },
  {
   "cell_type": "markdown",
   "metadata": {},
   "source": [
    "Se eliminan las columnas RowNumber, CustomerId, surname porque no son relevantes para la predicción del abandono de clientes.Y exited porque es el target"
   ]
  },
  {
   "cell_type": "code",
   "execution_count": 7,
   "metadata": {},
   "outputs": [],
   "source": [
    "model = RandomForestClassifier(random_state=12345)\n",
    "model.fit(features_train, target_train)\n",
    "predictions_test = model.predict(features_test)"
   ]
  },
  {
   "cell_type": "code",
   "execution_count": 8,
   "metadata": {},
   "outputs": [
    {
     "name": "stdout",
     "output_type": "stream",
     "text": [
      "Modelo sin corregir desequilibrio de clases:\n",
      "\n",
      "AUC-ROC Score: 0.8470257614219249\n",
      "F1 Score:  0.5654952076677316\n"
     ]
    }
   ],
   "source": [
    "probabilities_valid = model.predict_proba(features_valid)\n",
    "probabilities_one_valid = probabilities_valid[:, 1]\n",
    "\n",
    "auc_roc = roc_auc_score(target_valid, probabilities_one_valid)\n",
    "\n",
    "predicted_valid = model.predict(features_valid)\n",
    "f1_score_value = f1_score(target_valid, predicted_valid)\n",
    "\n",
    "\n",
    "print(\"Modelo sin corregir desequilibrio de clases:\")\n",
    "print()\n",
    "print(\"AUC-ROC Score:\", auc_roc)\n",
    "print(\"F1 Score: \", f1_score_value)\n"
   ]
  },
  {
   "cell_type": "markdown",
   "metadata": {},
   "source": [
    "La distribución de las clases en la columna 'Exited' muestra un claro desequilibrio:\n",
    "\n",
    "Clase 0 (El cliente NO se ha ido): 7963 \n",
    "Clase 1 (El cliente se ha ido): 2037 \n",
    "\n",
    "Se eliminaron las columnas 'RowNumber', 'CustomerId', 'Surname' por no ser relevantes para la predicción y la columna 'Exited' por ser el objetivo.\n",
    "\n",
    "Las variables categóricas 'Geography' y 'Gender' fueron convertidas a variables dummy, transformando las características categóricas en numéricas (variables dummy) mediante la configuración One-Hot Encoding (OHE).\n",
    "\n",
    "Los datos fueron divididos en conjunto de prueba (20%) y un conjunto de validación + entrenamiento (80%).\n",
    "El conjunto de validación + entrenamiento fue dividido nuevamente en conjunto de entrenamiento (60% del total) y conjunto de validación (20% del total).\n",
    "\n",
    "Los valores de AUC-ROC y F1 en el modelo sin corregir fueron de:\n",
    "\n",
    "AUC-ROC Score: 0.8470\n",
    "F1 Score: 0.5655\n",
    "\n",
    "la curva ROC es una línea diagonal que va desde la esquina inferior izquierda hasta la esquina superior derecha. Cuanto más se aleje la curva ROC de esta línea diagonal hacia la esquina superior izquierda, mejor será el modelo, ya que indica una mayor relación TVP-TFP.\n",
    "\n",
    "El valor F1 es la media armónica de recall y precisión. Un valor F1 cercano a cero mostrará que la predicción de la clase 1 ha fallado.   \n",
    "\n",
    "Estos resultados indican que el modelo tiene una buena capacidad para discriminar entre las clases (AUC-ROC alto), pero el F1 Score relativamente bajo sugiere que el modelo podría estar luchando con el desequilibrio de clases, afectando su precisión y recall en la clase minoritaria (clientes que han abandonado)."
   ]
  },
  {
   "cell_type": "markdown",
   "metadata": {},
   "source": [
    "## Mejora la calidad del modelo"
   ]
  },
  {
   "cell_type": "code",
   "execution_count": 9,
   "metadata": {},
   "outputs": [],
   "source": [
    "# corregir el desequilibrio de clases.\n",
    "\n",
    "# Sobremuestreo\n",
    "def upsample(features, target, repeat):\n",
    "    features_zeros = features[target == 0]\n",
    "    features_ones = features[target == 1]\n",
    "    target_zeros = target[target == 0]\n",
    "    target_ones = target[target == 1]\n",
    "\n",
    "    features_upsampled = pd.concat([features_zeros] + [features_ones] * repeat)\n",
    "    target_upsampled = pd.concat([target_zeros] + [target_ones] * repeat)\n",
    "\n",
    "    features_upsampled, target_upsampled = shuffle(\n",
    "        features_upsampled, target_upsampled, random_state=12345\n",
    "    )\n",
    "\n",
    "    return features_upsampled, target_upsampled"
   ]
  },
  {
   "cell_type": "code",
   "execution_count": 10,
   "metadata": {},
   "outputs": [],
   "source": [
    "# Submuestreo\n",
    "\n",
    "def downsample(features, target, fraction):\n",
    "    features_zeros = features[target == 0]\n",
    "    features_ones = features[target == 1]\n",
    "    target_zeros = target[target == 0]\n",
    "    target_ones = target[target == 1]\n",
    "\n",
    "    features_downsampled = pd.concat(\n",
    "        [features_zeros.sample(frac=fraction, random_state=12345)]\n",
    "        + [features_ones]\n",
    "    )\n",
    "    target_downsampled = pd.concat(\n",
    "        [target_zeros.sample(frac=fraction, random_state=12345)]\n",
    "        + [target_ones]\n",
    "    )\n",
    "\n",
    "    features_downsampled, target_downsampled = shuffle(\n",
    "        features_downsampled, target_downsampled, random_state=12345\n",
    "    )\n",
    "\n",
    "    return features_downsampled, target_downsampled\n"
   ]
  },
  {
   "cell_type": "code",
   "execution_count": null,
   "metadata": {},
   "outputs": [],
   "source": [
    "# Entrenamiento con diferentes conjuntos de entrenamiento y validación para encontrar el mejor modelo y el mejor conjunto de parámetros.\n",
    "\n",
    "best_f1 = 0\n",
    "best_model = None\n",
    "\n",
    "for n_estimators in [10, 25, 50, 75, 100]:\n",
    "    for max_depth in range(1,20):\n",
    "        \n",
    "        # Sobremuestreo\n",
    "        \n",
    "        features_upsampled, target_upsampled = upsample(features_train, target_train, 10)\n",
    "        model_upsampled = RandomForestClassifier(n_estimators=n_estimators, max_depth=max_depth, random_state=12345)\n",
    "        model_upsampled.fit(features_upsampled, target_upsampled)\n",
    "        predictions_valid_upsampled = model_upsampled.predict(features_valid)\n",
    "        f1_score_upsampled_value = f1_score(target_valid, predictions_valid_upsampled)\n",
    "\n",
    "        if f1_score_upsampled_value > best_f1:\n",
    "            best_f1 = f1_score_upsampled_value\n",
    "            best_model = model_upsampled\n",
    "            best_params = {'model': 'RandomForest', 'n_estimators': n_estimators, 'max_depht': max_depth}\n",
    "            \n",
    "            \n",
    "        # Submuestreo\n",
    "        \n",
    "        features_downsampled, target_downsampled = downsample(features_train, target_train, 0.1)\n",
    "        model_downsampled = RandomForestClassifier(n_estimators=n_estimators, max_depth=max_depth, random_state=12345)\n",
    "        model_downsampled.fit(features_downsampled, target_downsampled)\n",
    "        predictions_valid_downsampled = model_downsampled.predict(features_valid)\n",
    "        f1_score_downsampled_value = f1_score(target_valid, predictions_valid_downsampled)\n",
    "        \n",
    "        if f1_score_downsampled_value > best_f1:\n",
    "            best_f1 = f1_score_downsampled_value\n",
    "            best_model = model_downsampled\n",
    "            best_params = {'model': 'RandomForest', 'n_estimators': n_estimators, 'max_depht': max_depth}\n",
    "            \n"
   ]
  },
  {
   "cell_type": "code",
   "execution_count": null,
   "metadata": {},
   "outputs": [],
   "source": [
    "print(best_model)\n",
    "print('n_estimators: ' ,best_params['n_estimators'])\n",
    "print('max_depht: ', best_params['max_depht'])"
   ]
  },
  {
   "cell_type": "markdown",
   "metadata": {},
   "source": [
    "Se aplicaron dos técnicas de corrección del desequilibrio de clases:\n",
    "\n",
    "El sobremuestreo y el submuestreo son técnicas utilizadas para manejar el desequilibrio de clases en problemas de aprendizaje automático.\n",
    "\n",
    "El sobremuestreo consiste en aumentar la cantidad de ejemplos de la clase minoritaria para igualarla a la clase mayoritaria.\n",
    "\n",
    "El sobremuestreo consiste en aumentar la cantidad de ejemplos de la clase minoritaria para igualarla a la clase mayoritaria.\n",
    "\n",
    "- Sobremuestreo (Upsampling): Aumentando la cantidad de ejemplos de la clase minoritaria (clientes que han abandonado) para igualarla a la clase mayoritaria.\n",
    "- Submuestreo (Downsampling): Reduciendo la cantidad de ejemplos de la clase mayoritaria (clientes que no han abandonado) para igualarla a la clase minoritaria."
   ]
  },
  {
   "cell_type": "markdown",
   "metadata": {},
   "source": [
    "Se probaron múltiples combinaciones de hiperparámetros para el modelo de RandomForestClassifier (n_estimators y max_depth).\n",
    "Para cada combinación de hiperparámetros, se evaluaron los modelos entrenados con datos sobremuestreados y submuestreados usando el conjunto de validación.\n",
    "\n"
   ]
  },
  {
   "cell_type": "markdown",
   "metadata": {},
   "source": [
    "Se seleccionó el mejor modelo basado en el valor más alto de F1 Score obtenido en el conjunto de validación.\n",
    "\n",
    "\n",
    "Hiperparámetros del mejor modelo:\n",
    "\n",
    "- n_estimators: 100\n",
    "- max_depth: 18\n",
    "\n"
   ]
  },
  {
   "cell_type": "markdown",
   "metadata": {},
   "source": [
    "## Prueba final"
   ]
  },
  {
   "cell_type": "code",
   "execution_count": null,
   "metadata": {},
   "outputs": [],
   "source": [
    "# Evaluación del mejor modelo\n",
    "predictions_test = best_model.predict(features_test)\n",
    "f1_score_best_model = f1_score(target_test, predictions_test)\n",
    "auc_roc_best_model = roc_auc_score(target_test, best_model.predict_proba(features_test)[:, 1])\n",
    "\n",
    "print(\"Mejor modelo con corrección de desequilibrio de clases:\")\n",
    "print(\"F1 Score:\", f1_score_best_model)\n",
    "print(\"AUC-ROC Score:\", auc_roc_best_model)"
   ]
  },
  {
   "cell_type": "markdown",
   "metadata": {},
   "source": [
    "El mejor modelo fue evaluado en el conjunto de prueba.\n",
    "\n",
    "Métricas del mejor modelo:\n",
    "\n",
    "- F1 Score: 0.6025 (valor mayor del 0.59 minimo requerido para aprobar la revisión)\n",
    "- AUC-ROC Score: 0.8523 (indicando una buena capacidad de discriminación entre las clases)"
   ]
  },
  {
   "cell_type": "markdown",
   "metadata": {},
   "source": [
    "El enfoque de corregir el desequilibrio de clases mediante sobremuestreo resultó en un modelo de RandomForestClassifier con un F1 Score de 0.6025 y un AUC-ROC Score de 0.8523 en el conjunto de prueba. \n",
    "\n",
    "Estos resultados indican que el modelo tiene una buena capacidad tanto en términos de precisión y recall (F1 Score) como en la discriminación entre clases (AUC-ROC Score).\n",
    "\n"
   ]
  },
  {
   "cell_type": "markdown",
   "metadata": {},
   "source": [
    "## Conclusión general"
   ]
  },
  {
   "cell_type": "markdown",
   "metadata": {},
   "source": [
    "El objetivo del proyecto era predecir si un cliente dejará el banco Beta Bank en el futuro cercano, utilizando datos históricos sobre el comportamiento de los clientes y la terminación de contratos. Dada la importancia de retener clientes existentes, se buscaba desarrollar un modelo con un valor F1 de al menos 0.59 para evaluar la capacidad del modelo en identificar correctamente los clientes que podrían abandonar el banco.\n",
    "\n",
    "El modelo final no solo alcanzó sino que superó el umbral de F1 Score requerido, demostrando una buena capacidad para identificar correctamente a los clientes que podrían abandonar el banco.\n",
    "\n",
    "El alto valor de AUC-ROC indica que el modelo tiene una fuerte capacidad de discriminación entre los clientes que abandonan y los que no.\n",
    "\n",
    "Es posible predecir con buena precisión si un cliente dejará Beta Bank utilizando modelos de aprendizaje automático. Con un F1 Score de 0.6025 y un AUC-ROC de 0.8523, el modelo final se muestra como una manera de ayudar al banco a retener a sus clientes y tomar medidas proactivas para reducir la tasa de abandono."
   ]
  }
 ],
 "metadata": {
  "ExecuteTimeLog": [
   {
    "duration": 5,
    "start_time": "2024-06-10T23:31:22.181Z"
   },
   {
    "duration": 1203,
    "start_time": "2024-06-10T23:36:11.656Z"
   },
   {
    "duration": 83,
    "start_time": "2024-06-10T23:37:01.566Z"
   },
   {
    "duration": 1238,
    "start_time": "2024-06-10T23:37:59.679Z"
   },
   {
    "duration": 6,
    "start_time": "2024-06-10T23:38:16.848Z"
   },
   {
    "duration": 4,
    "start_time": "2024-06-11T00:20:31.176Z"
   },
   {
    "duration": 20,
    "start_time": "2024-06-11T00:20:41.870Z"
   },
   {
    "duration": 5,
    "start_time": "2024-06-11T00:20:51.521Z"
   },
   {
    "duration": 13,
    "start_time": "2024-06-11T00:20:57.526Z"
   },
   {
    "duration": 6,
    "start_time": "2024-06-11T00:46:45.164Z"
   },
   {
    "duration": 5,
    "start_time": "2024-06-11T00:49:59.560Z"
   },
   {
    "duration": 11,
    "start_time": "2024-06-11T00:51:28.805Z"
   },
   {
    "duration": 6,
    "start_time": "2024-06-11T00:51:51.615Z"
   },
   {
    "duration": 8,
    "start_time": "2024-06-11T00:51:58.696Z"
   },
   {
    "duration": 7,
    "start_time": "2024-06-11T00:52:05.311Z"
   },
   {
    "duration": 10,
    "start_time": "2024-06-11T00:52:19.398Z"
   },
   {
    "duration": 35,
    "start_time": "2024-06-11T00:54:37.095Z"
   },
   {
    "duration": 1311,
    "start_time": "2024-06-11T00:54:45.157Z"
   },
   {
    "duration": 74,
    "start_time": "2024-06-11T00:54:46.472Z"
   },
   {
    "duration": 5,
    "start_time": "2024-06-11T00:54:46.550Z"
   },
   {
    "duration": 6,
    "start_time": "2024-06-11T00:54:46.559Z"
   },
   {
    "duration": 39,
    "start_time": "2024-06-11T00:54:46.568Z"
   },
   {
    "duration": 256,
    "start_time": "2024-06-11T00:54:46.610Z"
   },
   {
    "duration": 136,
    "start_time": "2024-06-11T00:59:16.603Z"
   },
   {
    "duration": 64,
    "start_time": "2024-06-11T01:00:00.334Z"
   },
   {
    "duration": 1188,
    "start_time": "2024-06-11T01:00:08.372Z"
   },
   {
    "duration": 75,
    "start_time": "2024-06-11T01:00:09.564Z"
   },
   {
    "duration": 5,
    "start_time": "2024-06-11T01:00:09.642Z"
   },
   {
    "duration": 6,
    "start_time": "2024-06-11T01:00:09.652Z"
   },
   {
    "duration": 7,
    "start_time": "2024-06-11T01:00:09.661Z"
   },
   {
    "duration": 257,
    "start_time": "2024-06-11T01:00:09.708Z"
   },
   {
    "duration": 62,
    "start_time": "2024-06-11T01:00:45.016Z"
   },
   {
    "duration": 1194,
    "start_time": "2024-06-11T01:00:53.576Z"
   },
   {
    "duration": 81,
    "start_time": "2024-06-11T01:00:54.773Z"
   },
   {
    "duration": 5,
    "start_time": "2024-06-11T01:00:54.858Z"
   },
   {
    "duration": 10,
    "start_time": "2024-06-11T01:00:54.868Z"
   },
   {
    "duration": 6,
    "start_time": "2024-06-11T01:00:54.908Z"
   },
   {
    "duration": 264,
    "start_time": "2024-06-11T01:00:54.918Z"
   },
   {
    "duration": 16,
    "start_time": "2024-06-11T01:01:27.831Z"
   },
   {
    "duration": 56,
    "start_time": "2024-06-11T01:01:30.060Z"
   },
   {
    "duration": 1263,
    "start_time": "2024-06-11T01:02:49.443Z"
   },
   {
    "duration": 85,
    "start_time": "2024-06-11T01:02:50.709Z"
   },
   {
    "duration": 6,
    "start_time": "2024-06-11T01:02:50.805Z"
   },
   {
    "duration": 6,
    "start_time": "2024-06-11T01:02:50.817Z"
   },
   {
    "duration": 7,
    "start_time": "2024-06-11T01:02:50.826Z"
   },
   {
    "duration": 0,
    "start_time": "2024-06-11T01:02:50.837Z"
   },
   {
    "duration": 1239,
    "start_time": "2024-06-11T01:03:00.815Z"
   },
   {
    "duration": 72,
    "start_time": "2024-06-11T01:03:02.057Z"
   },
   {
    "duration": 6,
    "start_time": "2024-06-11T01:03:02.133Z"
   },
   {
    "duration": 8,
    "start_time": "2024-06-11T01:03:02.142Z"
   },
   {
    "duration": 1282,
    "start_time": "2024-06-11T01:03:02.154Z"
   },
   {
    "duration": 0,
    "start_time": "2024-06-11T01:03:03.439Z"
   },
   {
    "duration": 81,
    "start_time": "2024-06-11T01:03:23.492Z"
   },
   {
    "duration": 9,
    "start_time": "2024-06-11T01:03:49.338Z"
   },
   {
    "duration": 63,
    "start_time": "2024-06-11T01:03:51.509Z"
   },
   {
    "duration": 17,
    "start_time": "2024-06-11T01:04:23.166Z"
   },
   {
    "duration": 1192,
    "start_time": "2024-06-11T01:04:24.370Z"
   },
   {
    "duration": 390,
    "start_time": "2024-06-11T01:04:33.426Z"
   },
   {
    "duration": 1170,
    "start_time": "2024-06-11T01:04:45.489Z"
   },
   {
    "duration": 77,
    "start_time": "2024-06-11T01:04:46.663Z"
   },
   {
    "duration": 6,
    "start_time": "2024-06-11T01:04:46.743Z"
   },
   {
    "duration": 8,
    "start_time": "2024-06-11T01:04:46.754Z"
   },
   {
    "duration": 41,
    "start_time": "2024-06-11T01:04:46.766Z"
   },
   {
    "duration": 1224,
    "start_time": "2024-06-11T01:04:46.811Z"
   },
   {
    "duration": 430,
    "start_time": "2024-06-11T01:40:13.577Z"
   },
   {
    "duration": 4,
    "start_time": "2024-06-11T01:40:47.020Z"
   },
   {
    "duration": 1182,
    "start_time": "2024-06-11T01:40:51.982Z"
   },
   {
    "duration": 81,
    "start_time": "2024-06-11T01:40:53.167Z"
   },
   {
    "duration": 6,
    "start_time": "2024-06-11T01:40:53.253Z"
   },
   {
    "duration": 7,
    "start_time": "2024-06-11T01:40:53.262Z"
   },
   {
    "duration": 37,
    "start_time": "2024-06-11T01:40:53.273Z"
   },
   {
    "duration": 27,
    "start_time": "2024-06-11T01:40:53.313Z"
   },
   {
    "duration": 265,
    "start_time": "2024-06-11T01:40:53.344Z"
   },
   {
    "duration": 103,
    "start_time": "2024-06-11T01:41:13.115Z"
   },
   {
    "duration": 1552,
    "start_time": "2024-06-11T01:41:31.117Z"
   },
   {
    "duration": 56,
    "start_time": "2024-06-11T01:43:19.331Z"
   },
   {
    "duration": 1180,
    "start_time": "2024-06-11T01:52:50.574Z"
   },
   {
    "duration": 70,
    "start_time": "2024-06-11T01:52:51.758Z"
   },
   {
    "duration": 7,
    "start_time": "2024-06-11T01:52:51.832Z"
   },
   {
    "duration": 7,
    "start_time": "2024-06-11T01:52:51.842Z"
   },
   {
    "duration": 6,
    "start_time": "2024-06-11T01:52:51.855Z"
   },
   {
    "duration": 27,
    "start_time": "2024-06-11T01:52:51.907Z"
   },
   {
    "duration": 4,
    "start_time": "2024-06-11T01:52:51.937Z"
   },
   {
    "duration": 262,
    "start_time": "2024-06-11T01:52:51.944Z"
   },
   {
    "duration": 179,
    "start_time": "2024-06-11T01:52:52.209Z"
   },
   {
    "duration": 1538,
    "start_time": "2024-06-11T01:52:52.392Z"
   },
   {
    "duration": 55,
    "start_time": "2024-06-11T01:52:53.934Z"
   },
   {
    "duration": 25,
    "start_time": "2024-06-11T01:59:28.137Z"
   },
   {
    "duration": 236,
    "start_time": "2024-06-11T01:59:31.670Z"
   },
   {
    "duration": 427,
    "start_time": "2024-06-11T02:00:13.791Z"
   },
   {
    "duration": 190,
    "start_time": "2024-06-11T02:00:30.249Z"
   },
   {
    "duration": 1544,
    "start_time": "2024-06-11T02:01:07.014Z"
   },
   {
    "duration": 520,
    "start_time": "2024-06-11T02:05:34.399Z"
   },
   {
    "duration": 133,
    "start_time": "2024-06-11T02:06:02.557Z"
   },
   {
    "duration": 1253,
    "start_time": "2024-06-11T02:14:21.898Z"
   },
   {
    "duration": 70,
    "start_time": "2024-06-11T02:14:23.155Z"
   },
   {
    "duration": 5,
    "start_time": "2024-06-11T02:14:23.228Z"
   },
   {
    "duration": 7,
    "start_time": "2024-06-11T02:14:23.238Z"
   },
   {
    "duration": 7,
    "start_time": "2024-06-11T02:14:23.248Z"
   },
   {
    "duration": 62,
    "start_time": "2024-06-11T02:14:23.258Z"
   },
   {
    "duration": 24,
    "start_time": "2024-06-11T02:14:23.322Z"
   },
   {
    "duration": 471,
    "start_time": "2024-06-11T02:14:23.348Z"
   },
   {
    "duration": 685,
    "start_time": "2024-06-11T02:14:23.822Z"
   },
   {
    "duration": 0,
    "start_time": "2024-06-11T02:14:24.510Z"
   },
   {
    "duration": 0,
    "start_time": "2024-06-11T02:14:24.512Z"
   },
   {
    "duration": 1186,
    "start_time": "2024-06-11T02:15:16.245Z"
   },
   {
    "duration": 80,
    "start_time": "2024-06-11T02:15:17.436Z"
   },
   {
    "duration": 5,
    "start_time": "2024-06-11T02:15:17.521Z"
   },
   {
    "duration": 6,
    "start_time": "2024-06-11T02:15:17.529Z"
   },
   {
    "duration": 7,
    "start_time": "2024-06-11T02:15:17.541Z"
   },
   {
    "duration": 66,
    "start_time": "2024-06-11T02:15:17.551Z"
   },
   {
    "duration": 24,
    "start_time": "2024-06-11T02:15:17.620Z"
   },
   {
    "duration": 564,
    "start_time": "2024-06-11T02:15:17.647Z"
   },
   {
    "duration": 303,
    "start_time": "2024-06-11T02:15:18.214Z"
   },
   {
    "duration": 3089,
    "start_time": "2024-06-11T02:15:18.520Z"
   },
   {
    "duration": 62,
    "start_time": "2024-06-11T02:15:21.612Z"
   },
   {
    "duration": 16,
    "start_time": "2024-06-11T02:19:08.915Z"
   },
   {
    "duration": 808,
    "start_time": "2024-06-11T02:22:29.101Z"
   },
   {
    "duration": 1215,
    "start_time": "2024-06-11T02:22:54.534Z"
   },
   {
    "duration": 78,
    "start_time": "2024-06-11T02:22:55.753Z"
   },
   {
    "duration": 6,
    "start_time": "2024-06-11T02:22:55.835Z"
   },
   {
    "duration": 7,
    "start_time": "2024-06-11T02:22:55.845Z"
   },
   {
    "duration": 7,
    "start_time": "2024-06-11T02:22:55.857Z"
   },
   {
    "duration": 22,
    "start_time": "2024-06-11T02:22:55.908Z"
   },
   {
    "duration": 26,
    "start_time": "2024-06-11T02:22:55.932Z"
   },
   {
    "duration": 458,
    "start_time": "2024-06-11T02:22:55.960Z"
   },
   {
    "duration": 350,
    "start_time": "2024-06-11T02:22:56.421Z"
   },
   {
    "duration": 3133,
    "start_time": "2024-06-11T02:22:56.774Z"
   },
   {
    "duration": 18,
    "start_time": "2024-06-11T02:22:59.910Z"
   },
   {
    "duration": 1014,
    "start_time": "2024-06-11T02:22:59.932Z"
   },
   {
    "duration": 0,
    "start_time": "2024-06-11T02:23:00.949Z"
   },
   {
    "duration": 122,
    "start_time": "2024-06-11T02:23:25.191Z"
   },
   {
    "duration": 196,
    "start_time": "2024-06-11T02:24:52.159Z"
   },
   {
    "duration": 66,
    "start_time": "2024-06-11T02:25:27.416Z"
   },
   {
    "duration": 615,
    "start_time": "2024-06-11T02:27:14.244Z"
   },
   {
    "duration": 600,
    "start_time": "2024-06-11T02:28:22.371Z"
   },
   {
    "duration": 1187,
    "start_time": "2024-06-11T02:28:42.048Z"
   },
   {
    "duration": 74,
    "start_time": "2024-06-11T02:28:43.238Z"
   },
   {
    "duration": 5,
    "start_time": "2024-06-11T02:28:43.314Z"
   },
   {
    "duration": 5,
    "start_time": "2024-06-11T02:28:43.324Z"
   },
   {
    "duration": 6,
    "start_time": "2024-06-11T02:28:43.333Z"
   },
   {
    "duration": 64,
    "start_time": "2024-06-11T02:28:43.342Z"
   },
   {
    "duration": 24,
    "start_time": "2024-06-11T02:28:43.409Z"
   },
   {
    "duration": 388,
    "start_time": "2024-06-11T02:28:43.435Z"
   },
   {
    "duration": 362,
    "start_time": "2024-06-11T02:28:43.826Z"
   },
   {
    "duration": 3102,
    "start_time": "2024-06-11T02:28:44.194Z"
   },
   {
    "duration": 16,
    "start_time": "2024-06-11T02:28:47.305Z"
   },
   {
    "duration": 192,
    "start_time": "2024-06-11T02:28:47.323Z"
   },
   {
    "duration": 695,
    "start_time": "2024-06-11T02:28:47.518Z"
   },
   {
    "duration": 64,
    "start_time": "2024-06-11T02:28:48.216Z"
   },
   {
    "duration": 76,
    "start_time": "2024-06-11T02:28:48.284Z"
   },
   {
    "duration": 1242,
    "start_time": "2024-06-11T02:41:16.121Z"
   },
   {
    "duration": 69,
    "start_time": "2024-06-11T02:41:17.366Z"
   },
   {
    "duration": 6,
    "start_time": "2024-06-11T02:41:17.438Z"
   },
   {
    "duration": 7,
    "start_time": "2024-06-11T02:41:17.449Z"
   },
   {
    "duration": 6,
    "start_time": "2024-06-11T02:41:17.460Z"
   },
   {
    "duration": 22,
    "start_time": "2024-06-11T02:41:17.508Z"
   },
   {
    "duration": 962,
    "start_time": "2024-06-11T02:41:17.533Z"
   },
   {
    "duration": 30,
    "start_time": "2024-06-11T02:41:18.498Z"
   },
   {
    "duration": 17,
    "start_time": "2024-06-11T02:41:18.530Z"
   },
   {
    "duration": 447,
    "start_time": "2024-06-11T02:41:18.552Z"
   },
   {
    "duration": 0,
    "start_time": "2024-06-11T02:41:19.006Z"
   },
   {
    "duration": 0,
    "start_time": "2024-06-11T02:41:19.008Z"
   },
   {
    "duration": 0,
    "start_time": "2024-06-11T02:41:19.010Z"
   },
   {
    "duration": 1237,
    "start_time": "2024-06-11T02:41:53.913Z"
   },
   {
    "duration": 72,
    "start_time": "2024-06-11T02:41:55.155Z"
   },
   {
    "duration": 5,
    "start_time": "2024-06-11T02:41:55.231Z"
   },
   {
    "duration": 7,
    "start_time": "2024-06-11T02:41:55.238Z"
   },
   {
    "duration": 6,
    "start_time": "2024-06-11T02:41:55.249Z"
   },
   {
    "duration": 61,
    "start_time": "2024-06-11T02:41:55.258Z"
   },
   {
    "duration": 946,
    "start_time": "2024-06-11T02:41:55.322Z"
   },
   {
    "duration": 36,
    "start_time": "2024-06-11T02:41:56.271Z"
   },
   {
    "duration": 18,
    "start_time": "2024-06-11T02:41:56.310Z"
   },
   {
    "duration": 4,
    "start_time": "2024-06-11T02:41:56.331Z"
   },
   {
    "duration": 435,
    "start_time": "2024-06-11T02:41:56.338Z"
   },
   {
    "duration": 956,
    "start_time": "2024-06-11T02:42:41.088Z"
   },
   {
    "duration": 26,
    "start_time": "2024-06-11T02:47:02.323Z"
   },
   {
    "duration": 73,
    "start_time": "2024-06-11T02:48:01.624Z"
   },
   {
    "duration": 1225,
    "start_time": "2024-06-11T02:48:07.450Z"
   },
   {
    "duration": 76,
    "start_time": "2024-06-11T02:48:08.678Z"
   },
   {
    "duration": 6,
    "start_time": "2024-06-11T02:48:08.758Z"
   },
   {
    "duration": 36,
    "start_time": "2024-06-11T02:48:08.770Z"
   },
   {
    "duration": 8,
    "start_time": "2024-06-11T02:48:08.808Z"
   },
   {
    "duration": 22,
    "start_time": "2024-06-11T02:48:08.824Z"
   },
   {
    "duration": 982,
    "start_time": "2024-06-11T02:48:08.848Z"
   },
   {
    "duration": 467,
    "start_time": "2024-06-11T02:48:09.833Z"
   },
   {
    "duration": 0,
    "start_time": "2024-06-11T02:48:10.303Z"
   },
   {
    "duration": 0,
    "start_time": "2024-06-11T02:48:10.304Z"
   },
   {
    "duration": 0,
    "start_time": "2024-06-11T02:48:10.305Z"
   },
   {
    "duration": 0,
    "start_time": "2024-06-11T02:48:10.307Z"
   },
   {
    "duration": 1213,
    "start_time": "2024-06-11T02:48:23.293Z"
   },
   {
    "duration": 67,
    "start_time": "2024-06-11T02:48:24.509Z"
   },
   {
    "duration": 5,
    "start_time": "2024-06-11T02:48:24.581Z"
   },
   {
    "duration": 7,
    "start_time": "2024-06-11T02:48:24.610Z"
   },
   {
    "duration": 8,
    "start_time": "2024-06-11T02:48:24.621Z"
   },
   {
    "duration": 28,
    "start_time": "2024-06-11T02:48:24.632Z"
   },
   {
    "duration": 1036,
    "start_time": "2024-06-11T02:48:24.663Z"
   },
   {
    "duration": 56,
    "start_time": "2024-06-11T02:48:25.706Z"
   },
   {
    "duration": 43,
    "start_time": "2024-06-11T02:48:25.765Z"
   },
   {
    "duration": 16,
    "start_time": "2024-06-11T02:48:25.812Z"
   },
   {
    "duration": 4,
    "start_time": "2024-06-11T02:48:25.831Z"
   },
   {
    "duration": 428,
    "start_time": "2024-06-11T02:48:25.838Z"
   },
   {
    "duration": 54,
    "start_time": "2024-06-11T02:48:52.667Z"
   },
   {
    "duration": 56,
    "start_time": "2024-06-11T02:49:16.439Z"
   },
   {
    "duration": 77,
    "start_time": "2024-06-11T02:52:18.796Z"
   },
   {
    "duration": 105,
    "start_time": "2024-06-11T02:53:11.769Z"
   },
   {
    "duration": 1116,
    "start_time": "2024-06-11T03:11:13.163Z"
   },
   {
    "duration": 71,
    "start_time": "2024-06-11T03:11:14.282Z"
   },
   {
    "duration": 5,
    "start_time": "2024-06-11T03:11:14.356Z"
   },
   {
    "duration": 8,
    "start_time": "2024-06-11T03:11:14.367Z"
   },
   {
    "duration": 37,
    "start_time": "2024-06-11T03:11:14.378Z"
   },
   {
    "duration": 25,
    "start_time": "2024-06-11T03:11:14.418Z"
   },
   {
    "duration": 980,
    "start_time": "2024-06-11T03:11:14.446Z"
   },
   {
    "duration": 122,
    "start_time": "2024-06-11T03:11:15.429Z"
   },
   {
    "duration": 6,
    "start_time": "2024-06-11T03:11:15.554Z"
   },
   {
    "duration": 6,
    "start_time": "2024-06-11T03:11:15.566Z"
   },
   {
    "duration": 513,
    "start_time": "2024-06-11T03:11:15.575Z"
   },
   {
    "duration": 0,
    "start_time": "2024-06-11T03:11:16.091Z"
   },
   {
    "duration": 0,
    "start_time": "2024-06-11T03:11:16.092Z"
   },
   {
    "duration": 1234,
    "start_time": "2024-06-11T03:15:42.395Z"
   },
   {
    "duration": 74,
    "start_time": "2024-06-11T03:15:43.633Z"
   },
   {
    "duration": 5,
    "start_time": "2024-06-11T03:15:43.711Z"
   },
   {
    "duration": 7,
    "start_time": "2024-06-11T03:15:43.721Z"
   },
   {
    "duration": 7,
    "start_time": "2024-06-11T03:15:43.731Z"
   },
   {
    "duration": 70,
    "start_time": "2024-06-11T03:15:43.742Z"
   },
   {
    "duration": 994,
    "start_time": "2024-06-11T03:15:43.814Z"
   },
   {
    "duration": 113,
    "start_time": "2024-06-11T03:15:44.812Z"
   },
   {
    "duration": 6,
    "start_time": "2024-06-11T03:15:44.928Z"
   },
   {
    "duration": 6,
    "start_time": "2024-06-11T03:15:44.940Z"
   },
   {
    "duration": 539,
    "start_time": "2024-06-11T03:15:44.949Z"
   },
   {
    "duration": 0,
    "start_time": "2024-06-11T03:15:45.491Z"
   },
   {
    "duration": 0,
    "start_time": "2024-06-11T03:15:45.493Z"
   },
   {
    "duration": 112,
    "start_time": "2024-06-11T03:16:41.079Z"
   },
   {
    "duration": 127,
    "start_time": "2024-06-11T03:17:32.982Z"
   },
   {
    "duration": 1208,
    "start_time": "2024-06-11T03:17:45.309Z"
   },
   {
    "duration": 66,
    "start_time": "2024-06-11T03:17:46.520Z"
   },
   {
    "duration": 18,
    "start_time": "2024-06-11T03:17:46.589Z"
   },
   {
    "duration": 7,
    "start_time": "2024-06-11T03:17:46.611Z"
   },
   {
    "duration": 7,
    "start_time": "2024-06-11T03:17:46.622Z"
   },
   {
    "duration": 21,
    "start_time": "2024-06-11T03:17:46.632Z"
   },
   {
    "duration": 1012,
    "start_time": "2024-06-11T03:17:46.656Z"
   },
   {
    "duration": 115,
    "start_time": "2024-06-11T03:17:47.670Z"
   },
   {
    "duration": 5,
    "start_time": "2024-06-11T03:17:47.788Z"
   },
   {
    "duration": 6,
    "start_time": "2024-06-11T03:17:47.808Z"
   },
   {
    "duration": 560,
    "start_time": "2024-06-11T03:17:47.817Z"
   },
   {
    "duration": 0,
    "start_time": "2024-06-11T03:17:48.379Z"
   },
   {
    "duration": 0,
    "start_time": "2024-06-11T03:17:48.381Z"
   },
   {
    "duration": 11036,
    "start_time": "2024-06-11T03:18:16.163Z"
   },
   {
    "duration": 42,
    "start_time": "2024-06-11T03:18:27.202Z"
   },
   {
    "duration": 1205,
    "start_time": "2024-06-11T03:30:35.145Z"
   },
   {
    "duration": 74,
    "start_time": "2024-06-11T03:30:36.353Z"
   },
   {
    "duration": 6,
    "start_time": "2024-06-11T03:30:36.430Z"
   },
   {
    "duration": 7,
    "start_time": "2024-06-11T03:30:36.438Z"
   },
   {
    "duration": 6,
    "start_time": "2024-06-11T03:30:36.451Z"
   },
   {
    "duration": 63,
    "start_time": "2024-06-11T03:30:36.459Z"
   },
   {
    "duration": 974,
    "start_time": "2024-06-11T03:30:36.525Z"
   },
   {
    "duration": 113,
    "start_time": "2024-06-11T03:30:37.505Z"
   },
   {
    "duration": 6,
    "start_time": "2024-06-11T03:30:37.621Z"
   },
   {
    "duration": 7,
    "start_time": "2024-06-11T03:30:37.630Z"
   },
   {
    "duration": 37501,
    "start_time": "2024-06-11T03:30:37.641Z"
   },
   {
    "duration": 35,
    "start_time": "2024-06-11T03:31:15.144Z"
   },
   {
    "duration": 482,
    "start_time": "2024-06-11T03:31:15.182Z"
   },
   {
    "duration": 1228,
    "start_time": "2024-06-11T03:32:14.002Z"
   },
   {
    "duration": 74,
    "start_time": "2024-06-11T03:32:15.233Z"
   },
   {
    "duration": 6,
    "start_time": "2024-06-11T03:32:15.310Z"
   },
   {
    "duration": 7,
    "start_time": "2024-06-11T03:32:15.321Z"
   },
   {
    "duration": 8,
    "start_time": "2024-06-11T03:32:15.331Z"
   },
   {
    "duration": 72,
    "start_time": "2024-06-11T03:32:15.343Z"
   },
   {
    "duration": 973,
    "start_time": "2024-06-11T03:32:15.418Z"
   },
   {
    "duration": 119,
    "start_time": "2024-06-11T03:32:16.394Z"
   },
   {
    "duration": 7,
    "start_time": "2024-06-11T03:32:16.516Z"
   },
   {
    "duration": 7,
    "start_time": "2024-06-11T03:32:16.529Z"
   },
   {
    "duration": 1202,
    "start_time": "2024-06-11T03:34:46.773Z"
   },
   {
    "duration": 77,
    "start_time": "2024-06-11T03:34:47.979Z"
   },
   {
    "duration": 5,
    "start_time": "2024-06-11T03:34:48.059Z"
   },
   {
    "duration": 6,
    "start_time": "2024-06-11T03:34:48.067Z"
   },
   {
    "duration": 11,
    "start_time": "2024-06-11T03:34:48.107Z"
   },
   {
    "duration": 22,
    "start_time": "2024-06-11T03:34:48.121Z"
   },
   {
    "duration": 1029,
    "start_time": "2024-06-11T03:34:48.146Z"
   },
   {
    "duration": 114,
    "start_time": "2024-06-11T03:34:49.178Z"
   },
   {
    "duration": 11,
    "start_time": "2024-06-11T03:34:49.295Z"
   },
   {
    "duration": 8,
    "start_time": "2024-06-11T03:34:49.310Z"
   },
   {
    "duration": 88750,
    "start_time": "2024-06-11T03:34:49.321Z"
   },
   {
    "duration": 126,
    "start_time": "2024-06-11T03:36:18.074Z"
   },
   {
    "duration": 6,
    "start_time": "2024-06-11T03:37:29.672Z"
   },
   {
    "duration": 5,
    "start_time": "2024-06-11T03:38:03.149Z"
   },
   {
    "duration": 5,
    "start_time": "2024-06-11T03:38:47.844Z"
   },
   {
    "duration": 5,
    "start_time": "2024-06-11T03:38:59.465Z"
   },
   {
    "duration": 1226,
    "start_time": "2024-06-11T03:41:46.033Z"
   },
   {
    "duration": 70,
    "start_time": "2024-06-11T03:41:47.262Z"
   },
   {
    "duration": 5,
    "start_time": "2024-06-11T03:41:47.335Z"
   },
   {
    "duration": 7,
    "start_time": "2024-06-11T03:41:47.343Z"
   },
   {
    "duration": 6,
    "start_time": "2024-06-11T03:41:47.356Z"
   },
   {
    "duration": 59,
    "start_time": "2024-06-11T03:41:47.365Z"
   },
   {
    "duration": 1039,
    "start_time": "2024-06-11T03:41:47.427Z"
   },
   {
    "duration": 118,
    "start_time": "2024-06-11T03:41:48.469Z"
   },
   {
    "duration": 6,
    "start_time": "2024-06-11T03:41:48.590Z"
   },
   {
    "duration": 8,
    "start_time": "2024-06-11T03:41:48.606Z"
   },
   {
    "duration": 90117,
    "start_time": "2024-06-11T03:41:48.617Z"
   },
   {
    "duration": 122,
    "start_time": "2024-06-11T03:43:18.737Z"
   },
   {
    "duration": 6,
    "start_time": "2024-06-11T03:43:18.862Z"
   },
   {
    "duration": 1176,
    "start_time": "2024-06-12T03:01:08.651Z"
   },
   {
    "duration": 84,
    "start_time": "2024-06-12T03:01:09.831Z"
   },
   {
    "duration": 5,
    "start_time": "2024-06-12T03:01:09.918Z"
   },
   {
    "duration": 7,
    "start_time": "2024-06-12T03:01:09.928Z"
   },
   {
    "duration": 7,
    "start_time": "2024-06-12T03:01:09.938Z"
   },
   {
    "duration": 66,
    "start_time": "2024-06-12T03:01:09.948Z"
   },
   {
    "duration": 976,
    "start_time": "2024-06-12T03:01:10.017Z"
   },
   {
    "duration": 113,
    "start_time": "2024-06-12T03:01:11.000Z"
   },
   {
    "duration": 7,
    "start_time": "2024-06-12T03:01:11.116Z"
   },
   {
    "duration": 6,
    "start_time": "2024-06-12T03:01:11.128Z"
   },
   {
    "duration": 89899,
    "start_time": "2024-06-12T03:01:11.137Z"
   },
   {
    "duration": 7,
    "start_time": "2024-06-12T03:02:41.039Z"
   },
   {
    "duration": 131,
    "start_time": "2024-06-12T03:02:41.050Z"
   },
   {
    "duration": 1219,
    "start_time": "2024-07-26T02:17:44.939Z"
   },
   {
    "duration": 80,
    "start_time": "2024-07-26T02:17:46.164Z"
   },
   {
    "duration": 5,
    "start_time": "2024-07-26T02:17:46.248Z"
   },
   {
    "duration": 6,
    "start_time": "2024-07-26T02:17:46.256Z"
   },
   {
    "duration": 6,
    "start_time": "2024-07-26T02:17:46.267Z"
   },
   {
    "duration": 24,
    "start_time": "2024-07-26T02:17:46.309Z"
   },
   {
    "duration": 980,
    "start_time": "2024-07-26T02:17:46.337Z"
   },
   {
    "duration": 127,
    "start_time": "2024-07-26T02:17:47.321Z"
   },
   {
    "duration": 6,
    "start_time": "2024-07-26T02:17:47.451Z"
   },
   {
    "duration": 7,
    "start_time": "2024-07-26T02:17:47.459Z"
   },
   {
    "duration": 1185,
    "start_time": "2024-07-26T02:18:12.779Z"
   },
   {
    "duration": 74,
    "start_time": "2024-07-26T02:18:13.967Z"
   },
   {
    "duration": 5,
    "start_time": "2024-07-26T02:18:14.045Z"
   },
   {
    "duration": 7,
    "start_time": "2024-07-26T02:18:14.053Z"
   },
   {
    "duration": 43,
    "start_time": "2024-07-26T02:18:14.066Z"
   },
   {
    "duration": 23,
    "start_time": "2024-07-26T02:18:14.112Z"
   },
   {
    "duration": 1000,
    "start_time": "2024-07-26T02:18:14.137Z"
   },
   {
    "duration": 120,
    "start_time": "2024-07-26T02:18:15.139Z"
   },
   {
    "duration": 6,
    "start_time": "2024-07-26T02:18:15.262Z"
   },
   {
    "duration": 8,
    "start_time": "2024-07-26T02:18:15.272Z"
   }
  ],
  "kernelspec": {
   "display_name": "Python 3 (ipykernel)",
   "language": "python",
   "name": "python3"
  },
  "language_info": {
   "codemirror_mode": {
    "name": "ipython",
    "version": 3
   },
   "file_extension": ".py",
   "mimetype": "text/x-python",
   "name": "python",
   "nbconvert_exporter": "python",
   "pygments_lexer": "ipython3",
   "version": "3.9.19"
  },
  "toc": {
   "base_numbering": 1,
   "nav_menu": {},
   "number_sections": true,
   "sideBar": true,
   "skip_h1_title": true,
   "title_cell": "Table of Contents",
   "title_sidebar": "Contents",
   "toc_cell": false,
   "toc_position": {},
   "toc_section_display": true,
   "toc_window_display": false
  }
 },
 "nbformat": 4,
 "nbformat_minor": 2
}
